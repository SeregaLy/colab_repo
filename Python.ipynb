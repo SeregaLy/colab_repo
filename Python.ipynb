{
  "nbformat": 4,
  "nbformat_minor": 0,
  "metadata": {
    "colab": {
      "provenance": [],
      "authorship_tag": "ABX9TyMipNWX01JI4qzcrx4hEaD8",
      "include_colab_link": true
    },
    "kernelspec": {
      "name": "python3",
      "display_name": "Python 3"
    },
    "language_info": {
      "name": "python"
    }
  },
  "cells": [
    {
      "cell_type": "markdown",
      "metadata": {
        "id": "view-in-github",
        "colab_type": "text"
      },
      "source": [
        "<a href=\"https://colab.research.google.com/github/SeregaLy/colab_repo/blob/main/Python.ipynb\" target=\"_parent\"><img src=\"https://colab.research.google.com/assets/colab-badge.svg\" alt=\"Open In Colab\"/></a>"
      ]
    },
    {
      "cell_type": "code",
      "execution_count": null,
      "metadata": {
        "id": "FYoeSYJBJdug"
      },
      "outputs": [],
      "source": [
        "num = [1, 2, 3, 4, 5\n",
        "       ]"
      ]
    },
    {
      "cell_type": "code",
      "source": [
        "num\n"
      ],
      "metadata": {
        "colab": {
          "base_uri": "https://localhost:8080/"
        },
        "id": "JFqvs8koLrTC",
        "outputId": "f9ea4c63-6d0c-4e69-e615-7ff5e8e9aaa5"
      },
      "execution_count": null,
      "outputs": [
        {
          "output_type": "execute_result",
          "data": {
            "text/plain": [
              "[1, 2, 3, 4, 5]"
            ]
          },
          "metadata": {},
          "execution_count": 2
        }
      ]
    },
    {
      "cell_type": "code",
      "source": [
        "it_specialist = [('Jon', 'DE', 150), \n",
        "                 ('Carl', 'DA', 120), \n",
        "                 ('Gleb', 'DS', 300)]"
      ],
      "metadata": {
        "id": "N4WIcuYhLtgg"
      },
      "execution_count": null,
      "outputs": []
    },
    {
      "cell_type": "code",
      "source": [
        "class ItSpecialist:\n",
        "  def __init__(self, name,speciality, salary):\n",
        "    self.name = name\n",
        "    self.speciality = speciality\n",
        "    self.salary = salary\n",
        "  \n",
        "  def tell_about_youself(self):\n",
        "    return f\"Hi! My name {self.name}. I\\'m a {self.speciality}. My salary is {self.salary}\""
      ],
      "metadata": {
        "id": "UDSD7s6ZMGuQ"
      },
      "execution_count": null,
      "outputs": []
    },
    {
      "cell_type": "code",
      "source": [
        "jon = ItSpecialist('Jon', 'DE', 150)\n"
      ],
      "metadata": {
        "id": "TjN59iYDMlH0"
      },
      "execution_count": null,
      "outputs": []
    },
    {
      "cell_type": "code",
      "source": [
        "jon\n"
      ],
      "metadata": {
        "colab": {
          "base_uri": "https://localhost:8080/"
        },
        "id": "4ZWeAptcM0oo",
        "outputId": "56090456-b028-465b-cb18-bd8f76f9fddb"
      },
      "execution_count": null,
      "outputs": [
        {
          "output_type": "execute_result",
          "data": {
            "text/plain": [
              "<__main__.ItSpecialist at 0x7efe7d910b50>"
            ]
          },
          "metadata": {},
          "execution_count": 15
        }
      ]
    },
    {
      "cell_type": "code",
      "source": [
        "carl = ItSpecialist('Carl', 'DA', 120)"
      ],
      "metadata": {
        "id": "ySFLIMFKM27f"
      },
      "execution_count": null,
      "outputs": []
    },
    {
      "cell_type": "code",
      "source": [
        "jon.tell_about_youself()\n",
        "carl.tell_about_youself()"
      ],
      "metadata": {
        "colab": {
          "base_uri": "https://localhost:8080/",
          "height": 35
        },
        "id": "12RHrVvbNAcC",
        "outputId": "71872bb0-7b37-42b6-92ab-d14a0cc91f1e"
      },
      "execution_count": null,
      "outputs": [
        {
          "output_type": "execute_result",
          "data": {
            "text/plain": [
              "\"Hi! My name Carl. I'm a DA. My salary is 120\""
            ],
            "application/vnd.google.colaboratory.intrinsic+json": {
              "type": "string"
            }
          },
          "metadata": {},
          "execution_count": 17
        }
      ]
    },
    {
      "cell_type": "code",
      "source": [
        "class DataScients(ItSpecialist):\n",
        "  def __init__(self,name,salary):\n",
        "      super().__init__(name,'DS',salary)\n",
        "  \n",
        "  def ml(self, data):\n",
        "    return 'profit for company (and myself)'"
      ],
      "metadata": {
        "id": "T-yW3_PvN5Vf"
      },
      "execution_count": 24,
      "outputs": []
    },
    {
      "cell_type": "code",
      "source": [
        "gleb = DataScients('Gleb', 300)"
      ],
      "metadata": {
        "id": "vKEUkrPHR-pY"
      },
      "execution_count": 26,
      "outputs": []
    },
    {
      "cell_type": "code",
      "source": [
        "gleb.ml([1,2, 342423,-1])"
      ],
      "metadata": {
        "colab": {
          "base_uri": "https://localhost:8080/",
          "height": 35
        },
        "id": "G0tmDTffSMKY",
        "outputId": "7bd5cb88-c153-4f46-e51f-ef70761dbf85"
      },
      "execution_count": 27,
      "outputs": [
        {
          "output_type": "execute_result",
          "data": {
            "text/plain": [
              "'profit for company (and myself)'"
            ],
            "application/vnd.google.colaboratory.intrinsic+json": {
              "type": "string"
            }
          },
          "metadata": {},
          "execution_count": 27
        }
      ]
    },
    {
      "cell_type": "code",
      "source": [],
      "metadata": {
        "id": "tam35ka7SOg1"
      },
      "execution_count": null,
      "outputs": []
    }
  ]
}